{
  "nbformat": 4,
  "nbformat_minor": 0,
  "metadata": {
    "colab": {
      "provenance": []
    },
    "kernelspec": {
      "name": "python3",
      "display_name": "Python 3"
    },
    "language_info": {
      "name": "python"
    }
  },
  "cells": [
    {
      "cell_type": "markdown",
      "source": [
        "# Limpieza de datos\n",
        "\n",
        "Para los datos del Estado de México que son historicos se tiene que realizar lo siguiente:\n",
        "\n",
        "\n",
        "*  Eliminar columnas: Precipitación, Evaporación\n",
        "*  Si la temperatura máxima y mínima en algún registro es nulo, eliminarlo\n",
        "*  Si es nulo alguno de los dos valores de temperatura, calcular el promedio con las dos temperaturas anteriores y las dos temperaturas posteriores\n",
        "\n"
      ],
      "metadata": {
        "id": "Ni5dkadmUU4v"
      }
    },
    {
      "cell_type": "code",
      "source": [
        "from google.colab import drive\n",
        "drive.mount('/content/drive', force_remount=True)"
      ],
      "metadata": {
        "colab": {
          "base_uri": "https://localhost:8080/"
        },
        "id": "sZf23gqHbgPX",
        "outputId": "df4cb22f-3e8c-4ed1-bc42-19a4c73cade6"
      },
      "execution_count": null,
      "outputs": [
        {
          "output_type": "stream",
          "name": "stdout",
          "text": [
            "Mounted at /content/drive\n"
          ]
        }
      ]
    },
    {
      "cell_type": "code",
      "source": [
        "from pydrive.auth import GoogleAuth\n",
        "from pydrive.drive import GoogleDrive\n",
        "from google.colab import auth\n",
        "from oauth2client.client import GoogleCredentials\n",
        "import chardet\n",
        "\n",
        "import pandas as pd\n",
        "import numpy as np\n",
        "from concurrent.futures import ThreadPoolExecutor\n",
        "import os"
      ],
      "metadata": {
        "id": "B6VeAl0WjW4h",
        "colab": {
          "base_uri": "https://localhost:8080/"
        },
        "outputId": "a5f78e44-548b-449b-cb6b-6d8dde0da7e8"
      },
      "execution_count": null,
      "outputs": [
        {
          "output_type": "stream",
          "name": "stderr",
          "text": [
            "WARNING:root:pydrive is deprecated and no longer maintained. We recommend that you migrate your projects to pydrive2, the maintained fork of pydrive\n"
          ]
        }
      ]
    },
    {
      "cell_type": "code",
      "source": [
        "# Autenticación y creación del cliente PyDrive\n",
        "auth.authenticate_user()\n",
        "gauth = GoogleAuth()\n",
        "gauth.credentials = GoogleCredentials.get_application_default()\n",
        "drive = GoogleDrive(gauth)"
      ],
      "metadata": {
        "id": "_5X1K_9MgP_C"
      },
      "execution_count": null,
      "outputs": []
    },
    {
      "cell_type": "code",
      "source": [
        "#Descarga los archivos y los convierte en dataframes\n",
        "\n",
        "# ID de la carpeta compartida que deseas listar\n",
        "carpeta_id = '1pvA46f64RB_3CpOXZQ68iMGgWBZkkqs-'\n",
        "\n",
        "# Lista para almacenar los nombres de los archivos\n",
        "files_dataframes = []\n",
        "\n",
        "# Obtener la lista de archivos en la carpeta compartida\n",
        "file_list = drive.ListFile({'q': \"'{}' in parents\".format(carpeta_id)}).GetList()\n",
        "\n",
        "for archivo in file_list:\n",
        "    try:\n",
        "        # Descargar el archivo y guardarlo en el directorio actual\n",
        "        archivo.GetContentFile(archivo['title'])\n",
        "        # Leer el archivo descargado y crear un DataFrame\n",
        "        df = pd.read_excel(archivo['title'])\n",
        "        # Agregar el DataFrame al array\n",
        "        files_dataframes.append(df)\n",
        "        print(\"Archivo descargado y DataFrame creado:\", archivo['title'])\n",
        "    except Exception as e:\n",
        "        print(\"Error al descargar y crear DataFrame para el archivo:\", archivo['title'])\n",
        "        print(e)"
      ],
      "metadata": {
        "colab": {
          "base_uri": "https://localhost:8080/"
        },
        "id": "XG7XT0_liNr4",
        "outputId": "05aab714-137a-4173-8dcc-d50b3c75f74e"
      },
      "execution_count": null,
      "outputs": [
        {
          "output_type": "stream",
          "name": "stdout",
          "text": [
            "Archivo descargado y DataFrame creado: PueblaSan Nicolas (1).xlsx\n",
            "Archivo descargado y DataFrame creado: Manuel_utf8.xlsx\n",
            "Archivo descargado y DataFrame creado: Atlacomulco_utf8.xlsx\n",
            "Archivo descargado y DataFrame creado: Ixtapaluca_utf8.xlsx\n",
            "Archivo descargado y DataFrame creado: Oro_utf8.xlsx\n",
            "Archivo descargado y DataFrame creado: Toluca_utf8.xlsx\n",
            "Archivo descargado y DataFrame creado: Valle_utf8.xlsx\n",
            "Archivo descargado y DataFrame creado: Edo Amecameca.xlsx\n",
            "Archivo descargado y DataFrame creado: PueblaSan Nicolas.xlsx\n",
            "Archivo descargado y DataFrame creado: laguna.xlsx\n",
            "Archivo descargado y DataFrame creado: cerro.xlsx\n",
            "Archivo descargado y DataFrame creado: nevado.xlsx\n"
          ]
        }
      ]
    },
    {
      "cell_type": "code",
      "source": [
        "files_dataframes[0].dtypes"
      ],
      "metadata": {
        "colab": {
          "base_uri": "https://localhost:8080/"
        },
        "id": "nM4Y79SLG3CW",
        "outputId": "105634b8-ef8d-49ec-8f43-601da1d4f621"
      },
      "execution_count": null,
      "outputs": [
        {
          "output_type": "execute_result",
          "data": {
            "text/plain": [
              "Fecha                datetime64[ns]\n",
              "Precipitacion               float64\n",
              "Evaporacion                  object\n",
              "TemperaturaMaxima           float64\n",
              "TemperaturaMinima           float64\n",
              "dtype: object"
            ]
          },
          "metadata": {},
          "execution_count": 11
        }
      ]
    },
    {
      "cell_type": "code",
      "source": [
        "def calcular_valor(fila):\n",
        "  if fila['Precipitacion'] == 0.0:\n",
        "    return 0\n",
        "  elif fila['Precipitacion'] > 0.0 and fila['Precipitacion'] < 15.0:\n",
        "    return 1\n",
        "  elif (fila['Precipitacion'] > 15.0 and fila['Precipitacion'] < 30.0):\n",
        "    return 2\n",
        "  else:\n",
        "    return 3"
      ],
      "metadata": {
        "id": "7DbxPDvrF4ur"
      },
      "execution_count": null,
      "outputs": []
    },
    {
      "cell_type": "code",
      "source": [
        "def limpiar_datos(df):\n",
        "    columnas = ['Precipitacion', 'TemperaturaMaxima', 'TemperaturaMinima']\n",
        "    df[columnas] = df[columnas].apply(pd.to_numeric, errors=\"coerce\")\n",
        "    df['Fecha'] = pd.to_datetime(df['Fecha'], errors=\"coerce\")\n",
        "    df = df.drop('Evaporacion', axis = 1)\n",
        "    df = df.dropna(subset=['TemperaturaMaxima','TemperaturaMinima'], how = \"all\")\n",
        "\n",
        "    df[columnas] = df[columnas].interpolate(method='linear', limit_direction='both')\n",
        "    df['Categoria'] = df.apply(calcular_valor, axis = 1)\n",
        "\n",
        "    return df"
      ],
      "metadata": {
        "id": "QQET5if9ksK4"
      },
      "execution_count": null,
      "outputs": []
    },
    {
      "cell_type": "code",
      "source": [
        "# Crea un ThreadPoolExecutor con 4 hilos\n",
        "with ThreadPoolExecutor(max_workers=4) as executor:\n",
        "    # Ejecuta la función de limpieza para cada archivo\n",
        "    resultados = list(executor.map(limpiar_datos, files_dataframes))\n",
        "\n",
        "df_final = pd.concat(resultados, ignore_index = True)"
      ],
      "metadata": {
        "id": "rXav3GfMoYON"
      },
      "execution_count": null,
      "outputs": []
    },
    {
      "cell_type": "code",
      "source": [
        "df_final.to_csv('resultados_modulos.csv', index=False)\n",
        "# Guarda el DataFrame en un archivo CSV dentro de la carpeta compartida\n",
        "#final_df.to_csv(os.path.join(shared_folder_path, 'resultados_modulos.csv'), index=False)\n",
        "\n",
        "print(df_final.head(50))"
      ],
      "metadata": {
        "colab": {
          "base_uri": "https://localhost:8080/"
        },
        "id": "lZqLbeVhqDd4",
        "outputId": "72ec4773-fb8d-429f-e1ea-0840f3f0cc68"
      },
      "execution_count": null,
      "outputs": [
        {
          "output_type": "stream",
          "name": "stdout",
          "text": [
            "        Fecha  Precipitacion  TemperaturaMaxima  TemperaturaMinima  \\\n",
            "0  2007-01-05           22.0               12.0               10.0   \n",
            "1  2007-02-05           32.0               14.0                8.0   \n",
            "2  2007-03-05           14.0               12.0               10.0   \n",
            "3  2007-04-05            0.0               14.0                8.0   \n",
            "4  2007-05-05            0.0               14.0               10.0   \n",
            "5  2007-06-05            0.0               12.0               10.0   \n",
            "6  2007-07-05            0.0               12.0                8.0   \n",
            "7  2007-08-05            0.0               14.0                8.0   \n",
            "8  2007-09-05            0.0               16.0                8.0   \n",
            "9  2007-10-05            0.0               12.0               10.0   \n",
            "10 2007-11-05            0.0               14.0               10.0   \n",
            "11 2007-12-05            0.0               12.0               10.0   \n",
            "12 2007-05-13            0.0               12.0                8.0   \n",
            "13 2007-05-14            0.0               12.0               10.0   \n",
            "14 2007-05-15            0.0               12.0               10.0   \n",
            "15 2007-05-16            0.0               12.0               10.0   \n",
            "16 2007-05-17           22.5               14.0               10.0   \n",
            "17 2007-05-18            5.5               12.0               10.0   \n",
            "18 2007-05-19           12.5               10.0                8.0   \n",
            "19 2007-05-20            0.0               10.0                6.0   \n",
            "20 2007-05-21            0.0               10.0                8.0   \n",
            "21 2007-05-22            0.0               10.0                8.0   \n",
            "22 2007-05-23           20.8               10.0                8.0   \n",
            "23 2007-05-24           28.5                8.0                8.0   \n",
            "24 2007-05-25            0.0               12.0                6.0   \n",
            "25 2007-05-26            0.0               12.0               10.0   \n",
            "26 2007-05-27            0.0               10.0               10.0   \n",
            "27 2007-05-28            0.0               12.0                8.0   \n",
            "28 2007-05-29            0.0               14.0                8.0   \n",
            "29 2007-05-30            5.5               12.0               10.0   \n",
            "30 2007-05-31            0.0               12.0                8.0   \n",
            "31 2007-01-06            0.0               12.0                8.0   \n",
            "32 2007-02-06            0.0               14.0                8.0   \n",
            "33 2007-03-06            6.0               12.0               10.0   \n",
            "34 2007-04-06            6.0               12.0                8.0   \n",
            "35 2007-05-06           20.5               14.0                8.0   \n",
            "36 2007-06-06           11.5               12.0               10.0   \n",
            "37 2007-07-06           20.5               12.0                8.0   \n",
            "38 2007-08-06           20.5               12.0                8.0   \n",
            "39 2007-09-06            0.0               14.0               10.0   \n",
            "40 2007-10-06            0.0               14.0               10.0   \n",
            "41 2007-11-06            0.0               12.0                8.0   \n",
            "42 2007-12-06            0.0               12.0                8.0   \n",
            "43 2007-06-13           20.5               10.0                8.0   \n",
            "44 2007-06-14            0.0               10.0                8.0   \n",
            "45 2007-06-15            0.0               14.0                8.0   \n",
            "46 2007-06-16            6.5               12.0                8.0   \n",
            "47 2007-06-17           12.5               10.0                8.0   \n",
            "48 2007-06-18           40.5               10.0                6.0   \n",
            "49 2007-06-19           20.5               12.0                8.0   \n",
            "\n",
            "            Categoria  \n",
            "0       Lluvia fuerte  \n",
            "1   Lluvia muy fuerte  \n",
            "2          Sin lluvia  \n",
            "3          Sin lluvia  \n",
            "4          Sin lluvia  \n",
            "5          Sin lluvia  \n",
            "6          Sin lluvia  \n",
            "7          Sin lluvia  \n",
            "8          Sin lluvia  \n",
            "9          Sin lluvia  \n",
            "10         Sin lluvia  \n",
            "11         Sin lluvia  \n",
            "12         Sin lluvia  \n",
            "13         Sin lluvia  \n",
            "14         Sin lluvia  \n",
            "15         Sin lluvia  \n",
            "16      Lluvia fuerte  \n",
            "17         Sin lluvia  \n",
            "18         Sin lluvia  \n",
            "19         Sin lluvia  \n",
            "20         Sin lluvia  \n",
            "21         Sin lluvia  \n",
            "22      Lluvia fuerte  \n",
            "23      Lluvia fuerte  \n",
            "24         Sin lluvia  \n",
            "25         Sin lluvia  \n",
            "26         Sin lluvia  \n",
            "27         Sin lluvia  \n",
            "28         Sin lluvia  \n",
            "29         Sin lluvia  \n",
            "30         Sin lluvia  \n",
            "31         Sin lluvia  \n",
            "32         Sin lluvia  \n",
            "33         Sin lluvia  \n",
            "34         Sin lluvia  \n",
            "35      Lluvia fuerte  \n",
            "36         Sin lluvia  \n",
            "37      Lluvia fuerte  \n",
            "38      Lluvia fuerte  \n",
            "39         Sin lluvia  \n",
            "40         Sin lluvia  \n",
            "41         Sin lluvia  \n",
            "42         Sin lluvia  \n",
            "43      Lluvia fuerte  \n",
            "44         Sin lluvia  \n",
            "45         Sin lluvia  \n",
            "46         Sin lluvia  \n",
            "47         Sin lluvia  \n",
            "48  Lluvia muy fuerte  \n",
            "49      Lluvia fuerte  \n"
          ]
        }
      ]
    },
    {
      "cell_type": "code",
      "source": [
        "print(df_final.isna().sum())"
      ],
      "metadata": {
        "colab": {
          "base_uri": "https://localhost:8080/"
        },
        "id": "Dy3uNFwIkbNd",
        "outputId": "f3bc199c-dade-44c5-effc-b5c157b055dc"
      },
      "execution_count": null,
      "outputs": [
        {
          "output_type": "stream",
          "name": "stdout",
          "text": [
            "Fecha                0\n",
            "Precipitacion        0\n",
            "TemperaturaMaxima    0\n",
            "TemperaturaMinima    0\n",
            "dtype: int64\n"
          ]
        }
      ]
    },
    {
      "cell_type": "code",
      "source": [],
      "metadata": {
        "id": "b2TRfNlZB085"
      },
      "execution_count": null,
      "outputs": []
    }
  ]
}